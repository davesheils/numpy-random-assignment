{
 "cells": [
  {
   "cell_type": "markdown",
   "metadata": {},
   "source": [
    "# Workings from video - 16/10/2018"
   ]
  },
  {
   "cell_type": "code",
   "execution_count": 5,
   "metadata": {},
   "outputs": [],
   "source": [
    "import numpy as np"
   ]
  },
  {
   "cell_type": "code",
   "execution_count": 7,
   "metadata": {},
   "outputs": [
    {
     "data": {
      "text/plain": [
       "array([[0.88861886, 0.65377043],\n",
       "       [0.80715646, 0.74118914],\n",
       "       [0.19040504, 0.86190622]])"
      ]
     },
     "execution_count": 7,
     "metadata": {},
     "output_type": "execute_result"
    }
   ],
   "source": [
    "np.random.rand(3,2)"
   ]
  },
  {
   "cell_type": "code",
   "execution_count": 12,
   "metadata": {},
   "outputs": [
    {
     "data": {
      "text/plain": [
       "array([[[[0.48771044, 0.46043019, 0.36227993],\n",
       "         [0.52107927, 0.39516721, 0.50452095]],\n",
       "\n",
       "        [[0.02143807, 0.20668267, 0.44250555],\n",
       "         [0.00895429, 0.47512129, 0.025782  ]],\n",
       "\n",
       "        [[0.04107753, 0.30232352, 0.30633814],\n",
       "         [0.81590118, 0.51293952, 0.71091923]],\n",
       "\n",
       "        [[0.75824927, 0.05258921, 0.89192882],\n",
       "         [0.16165196, 0.74971475, 0.38342558]],\n",
       "\n",
       "        [[0.39575068, 0.72641507, 0.12586347],\n",
       "         [0.91072376, 0.77754219, 0.10326613]]],\n",
       "\n",
       "\n",
       "       [[[0.12979622, 0.97017407, 0.18039473],\n",
       "         [0.39016813, 0.36679582, 0.97516488]],\n",
       "\n",
       "        [[0.45577076, 0.08712354, 0.69316436],\n",
       "         [0.20248044, 0.38813823, 0.21369406]],\n",
       "\n",
       "        [[0.2549215 , 0.7725458 , 0.89643463],\n",
       "         [0.36591814, 0.56071259, 0.62612588]],\n",
       "\n",
       "        [[0.43188813, 0.8282125 , 0.27459151],\n",
       "         [0.74354787, 0.39735675, 0.60709834]],\n",
       "\n",
       "        [[0.16528089, 0.15529164, 0.70998419],\n",
       "         [0.28800465, 0.26604616, 0.50317107]]],\n",
       "\n",
       "\n",
       "       [[[0.06708852, 0.18064229, 0.09798038],\n",
       "         [0.89015492, 0.44370114, 0.00117804]],\n",
       "\n",
       "        [[0.77296788, 0.68145776, 0.51183658],\n",
       "         [0.94274783, 0.60146172, 0.61069137]],\n",
       "\n",
       "        [[0.70799682, 0.25794898, 0.84067845],\n",
       "         [0.23440469, 0.08733863, 0.91730443]],\n",
       "\n",
       "        [[0.66369155, 0.3433711 , 0.65535884],\n",
       "         [0.05730153, 0.33690899, 0.61194443]],\n",
       "\n",
       "        [[0.83001376, 0.22542599, 0.53941813],\n",
       "         [0.59949225, 0.3255957 , 0.16122262]]],\n",
       "\n",
       "\n",
       "       [[[0.70703722, 0.91830574, 0.86544706],\n",
       "         [0.64241176, 0.89889704, 0.40465788]],\n",
       "\n",
       "        [[0.74041513, 0.10849602, 0.44918125],\n",
       "         [0.55628635, 0.42668898, 0.50285552]],\n",
       "\n",
       "        [[0.35549636, 0.2607397 , 0.26456253],\n",
       "         [0.56214221, 0.11105924, 0.05910719]],\n",
       "\n",
       "        [[0.79147884, 0.92493243, 0.96765437],\n",
       "         [0.0423141 , 0.16334694, 0.06750408]],\n",
       "\n",
       "        [[0.72654521, 0.053274  , 0.84986374],\n",
       "         [0.3054861 , 0.93981611, 0.42299606]]]])"
      ]
     },
     "execution_count": 12,
     "metadata": {},
     "output_type": "execute_result"
    }
   ],
   "source": [
    "np.random.rand(4,5, 2, 3)"
   ]
  },
  {
   "cell_type": "markdown",
   "metadata": {},
   "source": [
    "## How does random.rand generate random numbers?"
   ]
  },
  {
   "cell_type": "code",
   "execution_count": 19,
   "metadata": {},
   "outputs": [
    {
     "data": {
      "image/png": "[encoded data removed]",
      "text/plain": [
       "<Figure size 432x288 with 1 Axes>"
      ]
     },
     "metadata": {},
     "output_type": "display_data"
    }
   ],
   "source": [
    "# %matplotlib inline - magic command to use if plt commands don't work\n",
    "\n",
    "\n",
    "import matplotlib.pyplot as plt\n",
    "x = np.random.rand(1000) # x = 1000 random numbers\n",
    "plt.hist(x)\n",
    "plt.show()"
   ]
  },
  {
   "cell_type": "markdown",
   "metadata": {},
   "source": [
    "## Investigating the random.uniform function"
   ]
  },
  {
   "cell_type": "code",
   "execution_count": 24,
   "metadata": {},
   "outputs": [
    {
     "data": {
      "image/png": "[encoded data removed]",
      "text/plain": [
       "<Figure size 432x288 with 1 Axes>"
      ]
     },
     "metadata": {},
     "output_type": "display_data"
    }
   ],
   "source": [
    "y = np.random.uniform(0,1000,10000)\n",
    "plt.hist(y)\n",
    "plt.show()"
   ]
  },
  {
   "cell_type": "markdown",
   "metadata": {},
   "source": [
    "## Investigating the normal distribution"
   ]
  },
  {
   "cell_type": "code",
   "execution_count": 27,
   "metadata": {},
   "outputs": [
    {
     "data": {
      "image/png": "[encoded data removed]",
      "text/plain": [
       "<Figure size 432x288 with 1 Axes>"
      ]
     },
     "metadata": {},
     "output_type": "display_data"
    }
   ],
   "source": [
    "z = np.random.normal(10,3,1000) # (x,y,z) where x = mean/centre, y = standard deviation, z = number of values\n",
    "plt.hist(z)\n",
    "plt.show()"
   ]
  }
 ],
 "metadata": {
  "kernelspec": {
   "display_name": "Python 3",
   "language": "python",
   "name": "python3"
  },
  "language_info": {
   "codemirror_mode": {
    "name": "ipython",
    "version": 3
   },
   "file_extension": ".py",
   "mimetype": "text/x-python",
   "name": "python",
   "nbconvert_exporter": "python",
   "pygments_lexer": "ipython3",
   "version": "3.6.5"
  }
 },
 "nbformat": 4,
 "nbformat_minor": 2
}
