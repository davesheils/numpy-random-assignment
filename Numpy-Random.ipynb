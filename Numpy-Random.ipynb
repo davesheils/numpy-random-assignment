{
 "cells": [
  {
   "cell_type": "markdown",
   "metadata": {},
   "source": [
    "# The Numpy.Random Package"
   ]
  },
  {
   "cell_type": "markdown",
   "metadata": {},
   "source": [
    "## 1. Explain the overall purpose of the package\n",
    "\n",
    "\n",
    "\n",
    "Numpy, short for numerical python is one of the most important foundational packages for numerical computing in Python (McKinney, p/2733). It is an open-source library that adds support for large, multi-dimensional arrays and matrices, along with a large collection of high-level mathematical functions to operate on these arrays. Numpy evolved from an earlier project called Numeric, itself developed as Python was not originally deigned for numeric computing (Wikipedia \"Numpy\").\n",
    "\n",
    "The package contains among other things\n",
    "1. a powerful N-dimensional array object\n",
    "2. sophisticated (broadcasting) functions\n",
    "3. tools for integrating C/C++ and Fortran code\n",
    "4. useful linear algebra, Fourier transform, and random number capabilities\n",
    "(from the Numpy webiste)\n",
    "\n",
    "It also includes a numpy.random module which supplements the built-in Python random with functions for efficiently generating whole arrays of sample values from many kinds of probability distributions (McKinney, p/4030). By contrast, Python's built-in random module only samples one value at a time (ibid).\n",
    "\n",
    "### Advantages of numpy.random over python's standard module\n",
    "\n",
    "The following code snippets demonstrate two advantages of numpy.random over the pythons standard random module, that is, simplicty of code and, arguably more importantly, speed (code reused from McKinney). \n",
    "\n",
    "Note the output of the standard python moule is a python list, whereas that the numpy.random module is the more powerful numpy Narray data type."
   ]
  },
  {
   "cell_type": "code",
   "execution_count": 1,
   "metadata": {
    "collapsed": true
   },
   "outputs": [],
   "source": [
    "# import the numpy library and the pyplot library.\n",
    "\n",
    "import numpy as np\n",
    "import matplotlib.pyplot as plt"
   ]
  },
  {
   "cell_type": "code",
   "execution_count": 2,
   "metadata": {},
   "outputs": [
    {
     "name": "stdout",
     "output_type": "stream",
     "text": [
      "1.53 s ± 136 ms per loop (mean ± std. dev. of 7 runs, 1 loop each)\n"
     ]
    }
   ],
   "source": [
    "# generating 4 x 4 array of samples form a normal distribution using python's random module:\n",
    " \n",
    "import random\n",
    "import timeit\n",
    "from random import normalvariate\n",
    "    \n",
    "N = 1000000\n",
    "\n",
    "# calculate time taken to generate 1 million randomly generated values across a normal distribution\n",
    "%timeit samples = [normalvariate(0,1) for _ in range (N)]"
   ]
  },
  {
   "cell_type": "code",
   "execution_count": 8,
   "metadata": {},
   "outputs": [
    {
     "name": "stdout",
     "output_type": "stream",
     "text": [
      "95.7 ms ± 455 µs per loop (mean ± std. dev. of 7 runs, 10 loops each)\n"
     ]
    }
   ],
   "source": [
    "# generating 4 x 4 array of samples form a normal distribution using python's np.random:\n",
    "\n",
    "# calculate time taken to generate 1 million randomly generated values across a normal distribution\n",
    "%timeit np.random.normal(size = N)"
   ]
  },
  {
   "cell_type": "markdown",
   "metadata": {},
   "source": [
    "## 2. Explain the use of \"Simple random data\" and \"Permutations functions\"\n",
    "\n",
    "\n",
    "### Simple random data\n",
    "\n",
    "A simple random sample is a subset of a statistical population in which each member of the subset has an equal probability of being chosen. A simple random sample is meant to be an unbiased representation of a group.\n",
    "\n",
    "\n",
    "Simple random data can be generated using the following numpy functions:\n",
    "\n",
    "\n",
    "| Function | OUTPUT |\n",
    "| --- | --- |\n",
    "| rand(d0, d1, …, dn)  | Random values in a given shape |\n",
    "| --- | --- |\n",
    "| randn(d0, d1, …, dn)| Return a sample (or samples) from the “standard normal” distribution. |\n",
    "| --- | --- |\n",
    "|  randint(low[, high, size, dtype])|\tReturn random integers from low (inclusive) to high (exclusive).  |\n",
    "| --- | --- |\n",
    "|  random_integers(low[, high, size]0)|\tRandom integers of type np.int between low and high, inclusive.  |\n",
    "| --- | --- |\n",
    "| random_sample([size])| Return random floats in the half-open interval [0.0, 1.0). |\n",
    "| --- | --- |\n",
    "| random([size]) |\tReturn random floats in the half-open interval [0.0, 1.0). |\n",
    "| --- | --- |\n",
    "| ranf([size]) | Return random floats in the half-open interval [0.0, 1.0). |\n",
    "| --- | --- |\n",
    "| sample([size]) | Return random floats in the half-open interval [0.0, 1.0). |\n",
    "| --- | --- |\n",
    "| choice(a[, size, replace, p]) |  Generates a random sample from a given 1-D array|\n",
    "| --- | --- |\n",
    "| bytes(length) | Return random bytes. |\n",
    "\n",
    "\n",
    "\n",
    "\n",
    "\n",
    "The following code snippets demonstate the use of two of two simple random data functions. One of them generates random numbers. The other randomly chooses items from a list."
   ]
  },
  {
   "cell_type": "code",
   "execution_count": 3,
   "metadata": {},
   "outputs": [
    {
     "name": "stdout",
     "output_type": "stream",
     "text": [
      "[[ 0.79962113  0.98156657  0.23520613  0.97466108  0.48787221  0.91354218\n",
      "   0.31870211  0.51732973  0.19776667  0.20319938]\n",
      " [ 0.53071433  0.34702045  0.63627196  0.55073558  0.25045363  0.98621086\n",
      "   0.54124411  0.51200806  0.0942924   0.27694024]]\n",
      "Chromatic any white note,\n"
     ]
    }
   ],
   "source": [
    "# Create an 2 X 10 array of 10 random numbers between 0 and 1.0:\n",
    "x = np.random.rand(2,10) \n",
    "print(x)\n",
    "\n",
    "# Choose a random item from the list. This works with numerical and string values\n",
    "# The scales list is the scales required of candidates for the RIAM Grade 4 Piano examination)\n",
    "\n",
    "scales = ['Bb', 'Eb', 'Ab' ,'Db', 'F#', 'F#m', 'C#m', 'G#m', 'Chromatic any white note,', 'B Contrary motion', 'F Contrary Motion', 'Bb Contrary motion', 'Eb Contrary Motion', 'Bb arpeggio', 'Eb arpeggio', 'Ab Arpeggio', 'Db Arpeggio', \"F# Arpeggio\", 'F#m arpeggio', 'C#m Arpeggio', 'G# Arpeggio'\n",
    "]\n",
    "print(np.random.choice(scales))"
   ]
  },
  {
   "cell_type": "markdown",
   "metadata": {},
   "source": [
    "### Permutations\n",
    "\n",
    "There are two permutations functions:\n",
    "\n",
    "| Function | OUTPUT |\n",
    "| --- | --- |\n",
    "| shuffle(x)  | Modify a sequence in-place by shuffling its contents. |\n",
    "| --- | --- |\n",
    "|permutation(x) | Randomly permute a sequence, or return a permuted range.|\n",
    " \t\n",
    "\n",
    "**Permuations example**\n",
    "\n",
    "The random.permutation function permute a sequences, or returns a permuted range.\n",
    "\n",
    "If theinput is a multi-dimensional array, it is only shuffled along its first index.\n",
    "\n",
    "The following two code examples demonstrate the permuting of a range and of a 3 X 3 array. Wecan see that although the order of the components of the array (lists) are permuted, their inner elements are not.\n",
    "\n",
    "Note that numpy.random.permutation does not modify the sequence itself."
   ]
  },
  {
   "cell_type": "code",
   "execution_count": 4,
   "metadata": {},
   "outputs": [
    {
     "name": "stdout",
     "output_type": "stream",
     "text": [
      "Example 1: permuting a range\n",
      "listB  [ 1  2  3  4  5  6  7  8  9 10 11 12 13 14 15 16 17 18 19 20 21]\n",
      "ListC  [ 5 17  9 21  6 13  3  7 11 20 18 12 14 19  8 16 10  2 15  1  4]\n",
      "\n",
      "Example 2: Permuting a 3 X 3 array\n",
      "4 X 3 array:  [[1, 2, 3], [4, 5, 6], [7, 8, 9], ['cat', 'dog', 'mouse'], ['London', 'Dublin', 'Paris']]\n",
      "permuted array: [['4' '5' '6']\n",
      " ['cat' 'dog' 'mouse']\n",
      " ['7' '8' '9']\n",
      " ['London' 'Dublin' 'Paris']\n",
      " ['1' '2' '3']]\n"
     ]
    }
   ],
   "source": [
    "# permutations\n",
    "print(\"Example 1: permuting a range\")\n",
    "listB = np.arange(1,22)\n",
    "print(\"listB \", listB)\n",
    "\n",
    "listC = np.random.permutation(listB)\n",
    "print(\"ListC \",listC)\n",
    "print()\n",
    "print(\"Example 2: Permuting a 3 X 3 array\")\n",
    "ListD = [[1,2,3],[4,5,6], [7,8,9], [\"cat\", \"dog\", \"mouse\"] ,[\"London\", \"Dublin\", \"Paris\"]]\n",
    "print(\"4 X 3 array: \",ListD)\n",
    "print(\"permuted array:\", np.random.permutation(ListD))\n"
   ]
  },
  {
   "cell_type": "markdown",
   "metadata": {},
   "source": [
    "The main difference between the permutation and the **Shuffle** functions is that the Shuffle function *modifys* the sequence itself by shuffling its contents. This function only shuffles the array along the first axis of a multi-dimensional array. The order of sub-arrays is changed but their contents remains the same.\n",
    "\n",
    "The following code snippet shows how the shuffle function may be used to shuffle the contents of a range of values:\n"
   ]
  },
  {
   "cell_type": "code",
   "execution_count": 5,
   "metadata": {},
   "outputs": [
    {
     "name": "stdout",
     "output_type": "stream",
     "text": [
      "[ 1  2  3  4  5  6  7  8  9 10]\n",
      "[ 8  1  6  7  5  9  4  3  2 10]\n"
     ]
    }
   ],
   "source": [
    "# generate a numpy array of numbers from 1 to 10\n",
    "listA = np.arange(1,11)\n",
    "print(listA)\n",
    "\n",
    "# Now, shuffle the contents of the array\n",
    "\n",
    "np.random.shuffle(listA)\n",
    "print(listA)\n",
    "\n",
    "# each time you run this snippet, the second operation arranges the contents of the array in a different order."
   ]
  },
  {
   "cell_type": "markdown",
   "metadata": {},
   "source": [
    "## 3. Explain the use and purpose of at least five Distributions function"
   ]
  },
  {
   "cell_type": "markdown",
   "metadata": {},
   "source": [
    "In probability theory and statistics, a probability distribution is a mathematical function that provides the probabilities of occurrence of different possible outcomes in an experiment. In more technical terms, the probability distribution is a description of a random phenomenon in terms of the probabilities of events.\n",
    "\n",
    "The following sections cover six probability distributions (with oveviews taken from wikipedia) and the numpy functions by which random samples can be generated.\n",
    "\n",
    "\n",
    "### (a) Uniform Distribution\n",
    "\n",
    ">\"Uniform Random Variables are used to model a scenario where a continuous random variable can take values that are equally distributed (with equal probability) in an interval. Uniform distribution is the underlying distribution to model such random variables.\n",
    "\n",
    "\n",
    ">Another way of saying \"discrete uniform distribution\" would be \"a known, finite number of outcomes equally likely to happen\".\n",
    "\n",
    ">A simple example of the discrete uniform distribution is throwing a fair die. The possible values are 1, 2, 3, 4, 5, 6, and each time the dice is thrown the probability of a given score is 1/6. If two dice are thrown and their values added, the resulting distribution is no longer uniform since not all sums have equal probability\".\n",
    "\n",
    "\n",
    "The **numpy.random.uniform()** function draws samples from a uniform distribution.\n",
    "\n",
    "The function takes three values:\n",
    "\n",
    "numpy.random.uniform(low, high, size)\n",
    "\n",
    "The default values of low and high are 0 and 1 respectively. \n",
    "\n",
    "The following code snippet will draw 10,000 samples of values between 10 and 20 (inclusive) and plot them as a histogram."
   ]
  },
  {
   "cell_type": "code",
   "execution_count": 6,
   "metadata": {},
   "outputs": [
    {
     "data": {
      "image/png": "[encoded data removed]",
      "text/plain": [
       "<matplotlib.figure.Figure at 0x10d8f3940>"
      ]
     },
     "metadata": {},
     "output_type": "display_data"
    }
   ],
   "source": [
    "# Draw 10,000 random values between 10 and 20 and plot the number of occurances as a histogram\n",
    "\n",
    "x = np.random.uniform(10, 20, 10000)\n",
    "\n",
    "plt.hist(x)\n",
    "plt.title(\"Uniform Distribution\")\n",
    "plt.xlabel(\"Random Value\")\n",
    "plt.ylabel(\"Number of occurances\")\n",
    "\n",
    "plt.show()"
   ]
  },
  {
   "cell_type": "markdown",
   "metadata": {},
   "source": [
    "### (b) Normal Distribution\n",
    "\n",
    ">\"In probability theory, the normal (or Gaussian or Gauss or Laplace–Gauss) distribution is a very common continuous probability distribution. Normal distributions are important in statistics and are often used in the natural and social sciences to represent real-valued random variables whose distributions are not known. A random variable with a Gaussian distribution is said to be normally distributed and is called a normal deviate\". \n",
    "\n",
    "The **numpy.random.normal()** function draws random samples from a normal (Gaussian) distribution.\n",
    "\n",
    "The function takes 3 values:\n",
    "\n",
    "* loc: the mean or \"centre\" of the distribution\n",
    "* scale: the standard deviation of the distribution\n",
    "* size: the number of samples\n",
    "\n",
    "The following code generates and plots as a histogram 10,000 vaues from the normal distribution:"
   ]
  },
  {
   "cell_type": "code",
   "execution_count": 31,
   "metadata": {},
   "outputs": [
    {
     "data": {
      "image/png": "[encoded data removed]",
      "text/plain": [
       "<matplotlib.figure.Figure at 0x10f53d4a8>"
      ]
     },
     "metadata": {},
     "output_type": "display_data"
    }
   ],
   "source": [
    "x = np.random.normal(0, 1, 10000)\n",
    "\n",
    "plt.xlabel(\"Random Value\")\n",
    "plt.ylabel(\"Number of occurances\")\n",
    "plt.title(\"Normal Distribution\")\n",
    "\n",
    "plt.hist(x)\n",
    "\n",
    "\n",
    "plt.show()"
   ]
  },
  {
   "cell_type": "code",
   "execution_count": null,
   "metadata": {
    "collapsed": true
   },
   "outputs": [],
   "source": []
  },
  {
   "cell_type": "markdown",
   "metadata": {},
   "source": [
    "### (c) Binomial Distribution\n",
    "\n",
    ">\"In probability theory and statistics, the binomial distribution with parameters n and p is the discrete probability distribution of the number of successes in a sequence of n independent experiments, each asking a yes–no question, and each with its own boolean-valued outcome: a random variable containing a single bit of information: success/yes/true/one (with probability p) or failure/no/false/zero (with probability q = 1 − p). A single success/failure experiment is also called a Bernoulli trial or Bernoulli experiment and a sequence of outcomes is called a Bernoulli process; for a single trial, i.e., n = 1, the binomial distribution is a Bernoulli distribution. The binomial distribution is the basis for the popular binomial test of statistical significance.\n",
    "\n",
    ">The binomial distribution is frequently used to model the number of successes in a sample of size n drawn with replacement from a population of size N. If the sampling is carried out without replacement, the draws are not independent and so the resulting distribution is a hypergeometric distribution, not a binomial one. However, for N much larger than n, the binomial distribution remains a good approximation, and is widely used\".\n",
    "\n",
    "The **numpy.random.binomial** function draws samples from a binomial distribution.\n",
    "\n",
    "It takes three possible arguments:\n",
    "* n: number of trials (n > 1) in each test\n",
    "* p: probability of success ( 0 <= p <=1). A p = 0.5 value will produce a graph similar to that of a normal distribution. A value of < 0.5 will yield a left skewed plot, while the opposite will be the case for a vlaue closer to 1.\n",
    "* size. Number of tests\n",
    "\n",
    "The following code snippets models the result of an experiment with 10 trials of an experiment (e.g flipping a coin) a 50/50 possibility of success. The experiment is re-run 1,000 times."
   ]
  },
  {
   "cell_type": "code",
   "execution_count": 23,
   "metadata": {},
   "outputs": [
    {
     "data": {
      "image/png": "[encoded data removed]",
      "text/plain": [
       "<matplotlib.figure.Figure at 0x10f2cb550>"
      ]
     },
     "metadata": {},
     "output_type": "display_data"
    }
   ],
   "source": [
    "x = np.random.binomial(10, 0.2, 1000)\n",
    "\n",
    "plt.hist(x)\n",
    "plt.xlabel(\"Random Value\")\n",
    "plt.ylabel(\"Number of occurances\")\n",
    "plt.title(\"Binomial Distribution\")\n",
    "plt.show()"
   ]
  },
  {
   "cell_type": "markdown",
   "metadata": {},
   "source": [
    "### (d) Poisson Distribution\n",
    "\n",
    ">\"In probability theory and statistics, the Poisson distribution, named after French mathematician Siméon Denis Poisson, is a discrete probability distribution that expresses the probability of a given number of events occurring in a fixed interval of time or space if these events occur with a known constant rate and independently of the time since the last event. The Poisson distribution can also be used for the number of events in other specified intervals such as distance, area or volume.\n",
    "\n",
    ">For instance, an individual keeping track of the amount of mail they receive each day may notice that they receive an average number of 4 letters per day. If receiving any particular piece of mail does not affect the arrival times of future pieces of mail, i.e., if pieces of mail from a wide range of sources arrive independently of one another, then a reasonable assumption is that the number of pieces of mail received in a day obeys a Poisson distribution. Other examples that may follow a Poisson include the number of phone calls received by a call center per hour and the number of decay events per second from a radioactive source\".\n",
    "\n",
    "The function **numpy.random.poisson()** draws samples from a poisson distribution.\n",
    "\n",
    "It takes two arguments:\n",
    "lam: This is the expectation of interval and must be > 0.\n",
    "size: This is trhe number of samples\n",
    "\n",
    "The code snippet below models a poisson distribution.\n"
   ]
  },
  {
   "cell_type": "code",
   "execution_count": 65,
   "metadata": {},
   "outputs": [
    {
     "data": {
      "image/png": "[encoded data removed]",
      "text/plain": [
       "<matplotlib.figure.Figure at 0x121242048>"
      ]
     },
     "metadata": {},
     "output_type": "display_data"
    }
   ],
   "source": [
    "x = np.random.poisson(1, 10000)\n",
    "\n",
    "plt.hist(x)\n",
    "plt.xlabel(\"Random Value\")\n",
    "plt.ylabel(\"Number of occurances\")\n",
    "plt.title(\"Poisson Distribution\")\n",
    "\n",
    "\n",
    "plt.show()"
   ]
  },
  {
   "cell_type": "markdown",
   "metadata": {},
   "source": [
    "### (e) Exponential Distribution \n",
    "\n",
    ">\"In probability theory and statistics, the exponential distribution (also known as the negative exponential distribution) is the probability distribution that describes the time between events in a Poisson point process, i.e., a process in which events occur continuously and independently at a constant average rate. It is a particular case of the gamma distribution. It is the continuous analogue of the geometric distribution, and it has the key property of being memoryless. In addition to being used for the analysis of Poisson point processes it is found in various other contexts.\n",
    "\n",
    ">The exponential distribution is not the same as the class of exponential families of distributions, which is a large class of probability distributions that includes the exponential distribution as one of its members, but also includes the normal distribution, binomial distribution, gamma distribution, Poisson, and many others\".\n",
    "\n",
    "The **numpy.random.exponential()** function draws samples from an exponential distribution. The code snippet below draws samples from and plots an exponential distribution.\n",
    "\n"
   ]
  },
  {
   "cell_type": "code",
   "execution_count": 26,
   "metadata": {},
   "outputs": [
    {
     "data": {
      "image/png": "[encoded data removed]",
      "text/plain": [
       "<matplotlib.figure.Figure at 0x10ebd0cf8>"
      ]
     },
     "metadata": {},
     "output_type": "display_data"
    }
   ],
   "source": [
    "x = np.random.exponential(0.5, 1000)\n",
    "\n",
    "plt.hist(x)\n",
    "plt.xlabel(\"Random Value\")\n",
    "plt.ylabel(\"Number of occurances\")\n",
    "plt.title(\"Exponential Distribution\")\n",
    "\n",
    "\n",
    "plt.show()"
   ]
  },
  {
   "cell_type": "markdown",
   "metadata": {},
   "source": [
    "### (f) Pareto Distribution\n",
    "\n",
    ">\"The Pareto distribution, named after the Italian civil engineer, economist, and sociologist Vilfredo Pareto, is a power-law probability distribution that is used in description of social, scientific, geophysical, actuarial, and many other types of observable phenomena. Originally applied to describing the distribution of wealth in a society, fitting the trend that a large portion of wealth is held by a small fraction of the population, the Pareto distribution has colloquially become known and referred to as the Pareto principle, or \"80-20 rule\", and is sometimes called the \"Matthew principle\". This rule states that, for example, 80% of the wealth of a society is held by 20% of its population.\". \n",
    "\n",
    "The **numpy.random.pareto()** function draws samples from a Pareto distribution. The code snippet below plots a histogram of values drawn from a pareto distribution."
   ]
  },
  {
   "cell_type": "code",
   "execution_count": 57,
   "metadata": {},
   "outputs": [
    {
     "data": {
      "image/png": "[encoded data removed]",
      "text/plain": [
       "<matplotlib.figure.Figure at 0x121242470>"
      ]
     },
     "metadata": {},
     "output_type": "display_data"
    }
   ],
   "source": [
    "x = np.random.pareto(100, 10000)\n",
    "\n",
    "plt.hist(x)\n",
    "plt.xlabel(\"Random Value\")\n",
    "plt.ylabel(\"Number of occurances\")\n",
    "plt.title(\"Pareto Distribution\")\n",
    "\n",
    "plt.show()"
   ]
  },
  {
   "cell_type": "markdown",
   "metadata": {},
   "source": [
    "## 4. Explain the use of seeds in generating pseudorandom numbers\n",
    "\n",
    "Random numbers generated by computer software area not true random numbers, but *pseudorandom* numbers because they are generated by an algorithm with deterministic behavior based on the *seed* of the random number generator (McKinney, p/4096). This means that pseuodrandom numbers *do* follow sequences (although they appear to be random in that they have no obvious relationship)\n",
    "\n",
    "A random seed (or seed state, or just seed) is a number (or vector) used to initialize a pseudorandom number generator.\n",
    "\n",
    "For a seed to be used in a pseudorandom number generator, it does not itself need to be random. Because of the nature of number generating algorithms, so long as the original seed is ignored, the rest of the values that the algorithm generates will follow probability distribution in a pseudorandom manner. \n",
    "\n",
    "Thus, the seed during such random number generation is the starting point in the sequence. If we use same seed every time, it will yield same sequence of random numbers.\n",
    "\n",
    "This can be demonstrated by the examples below:"
   ]
  },
  {
   "cell_type": "code",
   "execution_count": 53,
   "metadata": {},
   "outputs": [
    {
     "data": {
      "text/plain": [
       "array([ 0.22199317,  0.87073231,  0.20671916])"
      ]
     },
     "execution_count": 53,
     "metadata": {},
     "output_type": "execute_result"
    }
   ],
   "source": [
    "# Code snippet 1\n",
    "\n",
    "np.random.seed(5) # random number generator initialised\n",
    "np.random.rand(3) # now generate an array of three random numbers ..."
   ]
  },
  {
   "cell_type": "code",
   "execution_count": 54,
   "metadata": {},
   "outputs": [
    {
     "data": {
      "text/plain": [
       "array([ 0.91861091,  0.48841119,  0.61174386])"
      ]
     },
     "execution_count": 54,
     "metadata": {},
     "output_type": "execute_result"
    }
   ],
   "source": [
    "# Code snippet 2\n",
    "\n",
    "np.random.rand(3) # and another three ..."
   ]
  },
  {
   "cell_type": "markdown",
   "metadata": {},
   "source": [
    "Now, reset the seed and generate a sequence of six random numbers."
   ]
  },
  {
   "cell_type": "code",
   "execution_count": 32,
   "metadata": {},
   "outputs": [
    {
     "data": {
      "text/plain": [
       "array([ 0.22199317,  0.87073231,  0.20671916,  0.91861091,  0.48841119,\n",
       "        0.61174386])"
      ]
     },
     "execution_count": 32,
     "metadata": {},
     "output_type": "execute_result"
    }
   ],
   "source": [
    "# Code snippet 3 - to reset seed\n",
    "\n",
    "np.random.seed(5) # now reset the seed ...\n",
    "np.random.rand(6)"
   ]
  },
  {
   "cell_type": "markdown",
   "metadata": {},
   "source": [
    "As can be seen from the output of code snippet 3, the six \"pseudorandom\" numbers generated are the same as those generated by code snippets 1 and 2, and in the same order. This demonstrates that the seed in pseudorandom number generation is actually the starting point in the sequence. If we use same seed every time, it will yield same sequence of random numbers."
   ]
  },
  {
   "cell_type": "markdown",
   "metadata": {},
   "source": [
    "## References"
   ]
  },
  {
   "cell_type": "markdown",
   "metadata": {},
   "source": [
    "* McKinney, W, (2017) *Python for Data Analysis: Data Wrangling with Pandas, Numpy and IPython (2nd Edition)* O'Reilly Media (note: location references refer to locations in Kindle edition)\n",
    "* Numpy Tutorial/online reference: http://www.numpy.org/\n",
    "* \"Numpy\", https://en.wikipedia.org/wiki/NumPy\n",
    "* \"Probability Distribution\", https://en.wikipedia.org/wiki/Probability_distribution\n",
    "* \"Discrete uniform_distribution\" https://en.wikipedia.org/wiki/Discrete_uniform_distribution\n",
    "* \"Normal distribution\" https://en.wikipedia.org/wiki/Normal_distribution\n",
    "* \"Poisson distribution\" https://en.wikipedia.org/wiki/Poisson_distribution\n",
    "* \"Exponential distribution\" https://en.wikipedia.org/wiki/Exponential_distribution\n",
    "* \"Pareto distribution\" https://en.wikipedia.org/wiki/Pareto_distribution\n",
    "* \"Random Seed\" https://en.wikipedia.org/wiki/Random_seed"
   ]
  }
 ],
 "metadata": {
  "kernelspec": {
   "display_name": "Python 3",
   "language": "python",
   "name": "python3"
  },
  "language_info": {
   "codemirror_mode": {
    "name": "ipython",
    "version": 3
   },
   "file_extension": ".py",
   "mimetype": "text/x-python",
   "name": "python",
   "nbconvert_exporter": "python",
   "pygments_lexer": "ipython3",
   "version": "3.6.3"
  }
 },
 "nbformat": 4,
 "nbformat_minor": 2
}
